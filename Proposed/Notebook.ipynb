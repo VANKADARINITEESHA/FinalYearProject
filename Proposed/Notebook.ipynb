{
 "cells": [
  {
   "cell_type": "code",
   "execution_count": 1,
   "metadata": {},
   "outputs": [],
   "source": [
    "import warnings\n",
    "warnings.filterwarnings('ignore')"
   ]
  },
  {
   "cell_type": "code",
   "execution_count": 5,
   "metadata": {},
   "outputs": [],
   "source": [
    "import numpy as np\n",
    "import matplotlib.pyplot as plt\n",
    "import tensorflow as tf\n",
    "from tensorflow import keras\n",
    "from keras.layers import *\n",
    "from keras.models import *\n",
    "from keras.preprocessing import image\n",
    "from keras.preprocessing.image import ImageDataGenerator\n",
    "import os, shutil"
   ]
  },
  {
   "cell_type": "code",
   "execution_count": 2,
   "metadata": {},
   "outputs": [
    {
     "name": "stderr",
     "output_type": "stream",
     "text": [
      "Copying files: 320 files [00:00, 2816.42 files/s]\n"
     ]
    }
   ],
   "source": [
    "import splitfolders # or import splitfolders\n",
    "input_folder = \"EyeNet-master\"\n",
    "output = \"output\" #where you want the split datasets saved. one will be created if it does not exist or none is set\n",
    "\n",
    "splitfolders.ratio(input_folder, output=output, seed=42, ratio=(.7, .2, .1)) # ratio of split are in order of train/val/test. You can change to whatever you want. For train/val sets only, you could do .75, .25 for example."
   ]
  },
  {
   "cell_type": "code",
   "execution_count": 3,
   "metadata": {},
   "outputs": [],
   "source": [
    "train_path = \"output/train\"\n",
    "validation_path = \"output/val\"\n",
    "test_path = \"output/test\"\n"
   ]
  },
  {
   "cell_type": "code",
   "execution_count": 6,
   "metadata": {},
   "outputs": [
    {
     "name": "stdout",
     "output_type": "stream",
     "text": [
      "Found 256 images belonging to 32 classes.\n",
      "Found 96 images belonging to 32 classes.\n",
      "Found 32 images belonging to 32 classes.\n"
     ]
    }
   ],
   "source": [
    "# 1. Train Set\n",
    "train_gen = ImageDataGenerator(rescale = 1.0/255.0) # Normalise the data\n",
    "train_image_generator = train_gen.flow_from_directory(\n",
    "                                            train_path,\n",
    "                                            target_size=(150, 150),\n",
    "                                            batch_size=2,\n",
    "                                            class_mode='categorical')\n",
    "\n",
    "# 2. Validation Set\n",
    "val_gen = ImageDataGenerator(rescale = 1.0/255.0) # Normalise the data\n",
    "val_image_generator = train_gen.flow_from_directory(\n",
    "                                            validation_path,\n",
    "                                            target_size=(150, 150),\n",
    "                                            batch_size=2,\n",
    "                                            class_mode='categorical')\n",
    "\n",
    "# 3. Test Set\n",
    "test_gen = ImageDataGenerator(rescale = 1.0/255.0) # Normalise the data\n",
    "test_image_generator = train_gen.flow_from_directory(\n",
    "                                            test_path,\n",
    "                                            target_size=(150, 150),\n",
    "                                            batch_size=2,\n",
    "                                            class_mode='categorical')"
   ]
  },
  {
   "cell_type": "code",
   "execution_count": 11,
   "metadata": {},
   "outputs": [],
   "source": [
    "from keras import backend as K\n",
    "\n",
    "def recall_m(y_true, y_pred):\n",
    "    true_positives = K.sum(K.round(K.clip(y_true * y_pred, 0, 1)))\n",
    "    possible_positives = K.sum(K.round(K.clip(y_true, 0, 1)))\n",
    "    recall = true_positives / (possible_positives + K.epsilon())\n",
    "    return recall\n",
    "\n",
    "def precision_m(y_true, y_pred):\n",
    "    true_positives = K.sum(K.round(K.clip(y_true * y_pred, 0, 1)))\n",
    "    predicted_positives = K.sum(K.round(K.clip(y_pred, 0, 1)))\n",
    "    precision = true_positives / (predicted_positives + K.epsilon())\n",
    "    return precision\n",
    "\n",
    "def f1_m(y_true, y_pred):\n",
    "    precision = precision_m(y_true, y_pred)\n",
    "    recall = recall_m(y_true, y_pred)\n",
    "    return 2*((precision*recall)/(precision+recall+K.epsilon()))"
   ]
  },
  {
   "cell_type": "code",
   "execution_count": 7,
   "metadata": {},
   "outputs": [
    {
     "name": "stdout",
     "output_type": "stream",
     "text": [
      "{0: 'AMN Macular Neuroretinopathy', 1: \"Adult Coats' Disease\", 2: 'Adult Foveomacular Dystrophy Pattern', 3: 'Age-Related Macular Degeneration With Pattern Dystrophy Appearance', 4: 'Antiphospholipid Antibody Syndrome', 5: \"Behcet's\", 6: 'Bilateral Macular Dystrophy', 7: \"Bull's Eye Maculopathy Chloroquine\", 8: 'CMV Chorioretinitis', 9: 'Central Serous Chorioretinopathy', 10: 'Choroidal Nevus', 11: 'Cone - Rod Dystrophy', 12: 'Congenital Syphillis', 13: 'Diabetic Maculopathy Multiple Myeloma with Retinal Detachment', 14: 'Giant Retinal Tear', 15: 'Juxtafoveal Telangiectasis DM Diabetes', 16: \"Leber's Stellate Maculopathy\", 17: 'Macular Dystrophy', 18: 'Multifocal Exudative Detachments Due to VKH', 19: 'Myelinated Nerve Fibers', 20: 'North Carolina Dystrophy', 21: 'Optic Disc Drusen', 22: 'Pattern Dystrophy Simulating Fundus Flavimaculatus', 23: 'Reticular Pattern Dystrophy', 24: 'Retinal Folds Following Retinal Reattachment Surgery', 25: 'Retrohyaloid Hemorrhage', 26: 'Roth Spot', 27: 'Self-Applied Retinal Detachment', 28: 'Solar Retinopathy Familial', 29: \"Susac's Syndrome\", 30: \"Terson's Syndrome\", 31: 'Wyburn-Mason Syndrome'}\n"
     ]
    }
   ],
   "source": [
    "# Print the class encodings done by the generators\n",
    "class_map = dict([(v, k) for k, v in train_image_generator.class_indices.items()])\n",
    "print(class_map)"
   ]
  },
  {
   "cell_type": "markdown",
   "metadata": {},
   "source": [
    "Feature Extraction for ML"
   ]
  },
  {
   "cell_type": "code",
   "execution_count": 37,
   "metadata": {},
   "outputs": [
    {
     "name": "stdout",
     "output_type": "stream",
     "text": [
      "['test', 'train', 'val']\n"
     ]
    }
   ],
   "source": [
    "import numpy as np \n",
    "import matplotlib.pyplot as plt\n",
    "import glob\n",
    "import cv2\n",
    "\n",
    "from keras.models import Model, Sequential\n",
    "from keras.layers import Dense, Flatten, Conv2D, MaxPooling2D\n",
    "from keras.layers.normalization import BatchNormalization\n",
    "import os\n",
    "import seaborn as sns\n",
    "from keras.applications.vgg16 import VGG16\n",
    "\n",
    "# Read input images and assign labels based on folder names\n",
    "print(os.listdir(\"output/\"))\n",
    "\n",
    "SIZE = 128  #Resize images\n",
    "\n",
    "#Capture training data and labels into respective lists\n",
    "train_images = []\n",
    "train_labels = [] "
   ]
  },
  {
   "cell_type": "code",
   "execution_count": 38,
   "metadata": {},
   "outputs": [
    {
     "name": "stdout",
     "output_type": "stream",
     "text": [
      "Adult Coats' Disease\n",
      "output/train\\Adult Coats' Disease\\2.jpg\n",
      "output/train\\Adult Coats' Disease\\3.jpg\n",
      "output/train\\Adult Coats' Disease\\4.jpg\n",
      "output/train\\Adult Coats' Disease\\5.jpg\n",
      "output/train\\Adult Coats' Disease\\6.jpg\n",
      "output/train\\Adult Coats' Disease\\7.jpg\n",
      "output/train\\Adult Coats' Disease\\8.jpg\n",
      "output/train\\Adult Coats' Disease\\9.jpg\n",
      "Adult Foveomacular Dystrophy Pattern\n",
      "output/train\\Adult Foveomacular Dystrophy Pattern\\2.jpg\n",
      "output/train\\Adult Foveomacular Dystrophy Pattern\\3.jpg\n",
      "output/train\\Adult Foveomacular Dystrophy Pattern\\4.jpg\n",
      "output/train\\Adult Foveomacular Dystrophy Pattern\\5.jpg\n",
      "output/train\\Adult Foveomacular Dystrophy Pattern\\6.jpg\n",
      "output/train\\Adult Foveomacular Dystrophy Pattern\\7.jpg\n",
      "output/train\\Adult Foveomacular Dystrophy Pattern\\8.jpg\n",
      "output/train\\Adult Foveomacular Dystrophy Pattern\\9.jpg\n",
      "Age-Related Macular Degeneration With Pattern Dystrophy Appearance\n",
      "output/train\\Age-Related Macular Degeneration With Pattern Dystrophy Appearance\\2.jpg\n",
      "output/train\\Age-Related Macular Degeneration With Pattern Dystrophy Appearance\\3.jpg\n",
      "output/train\\Age-Related Macular Degeneration With Pattern Dystrophy Appearance\\4.jpg\n",
      "output/train\\Age-Related Macular Degeneration With Pattern Dystrophy Appearance\\5.jpg\n",
      "output/train\\Age-Related Macular Degeneration With Pattern Dystrophy Appearance\\6.jpg\n",
      "output/train\\Age-Related Macular Degeneration With Pattern Dystrophy Appearance\\7.jpg\n",
      "output/train\\Age-Related Macular Degeneration With Pattern Dystrophy Appearance\\8.jpg\n",
      "output/train\\Age-Related Macular Degeneration With Pattern Dystrophy Appearance\\9.jpg\n",
      "AMN Macular Neuroretinopathy\n",
      "output/train\\AMN Macular Neuroretinopathy\\2.jpg\n",
      "output/train\\AMN Macular Neuroretinopathy\\3.jpg\n",
      "output/train\\AMN Macular Neuroretinopathy\\4.jpg\n",
      "output/train\\AMN Macular Neuroretinopathy\\5.jpg\n",
      "output/train\\AMN Macular Neuroretinopathy\\6.jpg\n",
      "output/train\\AMN Macular Neuroretinopathy\\7.jpg\n",
      "output/train\\AMN Macular Neuroretinopathy\\8.jpg\n",
      "output/train\\AMN Macular Neuroretinopathy\\9.jpg\n",
      "Antiphospholipid Antibody Syndrome\n",
      "output/train\\Antiphospholipid Antibody Syndrome\\2.jpg\n",
      "output/train\\Antiphospholipid Antibody Syndrome\\3.jpg\n",
      "output/train\\Antiphospholipid Antibody Syndrome\\4.jpg\n",
      "output/train\\Antiphospholipid Antibody Syndrome\\5.jpg\n",
      "output/train\\Antiphospholipid Antibody Syndrome\\6.jpg\n",
      "output/train\\Antiphospholipid Antibody Syndrome\\7.jpg\n",
      "output/train\\Antiphospholipid Antibody Syndrome\\8.jpg\n",
      "output/train\\Antiphospholipid Antibody Syndrome\\9.jpg\n",
      "Behcet's\n",
      "output/train\\Behcet's\\2.jpg\n",
      "output/train\\Behcet's\\3.jpg\n",
      "output/train\\Behcet's\\4.jpg\n",
      "output/train\\Behcet's\\5.jpg\n",
      "output/train\\Behcet's\\6.jpg\n",
      "output/train\\Behcet's\\7.jpg\n",
      "output/train\\Behcet's\\8.jpg\n",
      "output/train\\Behcet's\\9.jpg\n",
      "Bilateral Macular Dystrophy\n",
      "output/train\\Bilateral Macular Dystrophy\\2.jpg\n",
      "output/train\\Bilateral Macular Dystrophy\\3.jpg\n",
      "output/train\\Bilateral Macular Dystrophy\\4.jpg\n",
      "output/train\\Bilateral Macular Dystrophy\\5.jpg\n",
      "output/train\\Bilateral Macular Dystrophy\\6.jpg\n",
      "output/train\\Bilateral Macular Dystrophy\\7.jpg\n",
      "output/train\\Bilateral Macular Dystrophy\\8.jpg\n",
      "output/train\\Bilateral Macular Dystrophy\\9.jpg\n",
      "Bull's Eye Maculopathy Chloroquine\n",
      "output/train\\Bull's Eye Maculopathy Chloroquine\\2.jpg\n",
      "output/train\\Bull's Eye Maculopathy Chloroquine\\3.jpg\n",
      "output/train\\Bull's Eye Maculopathy Chloroquine\\4.jpg\n",
      "output/train\\Bull's Eye Maculopathy Chloroquine\\5.jpg\n",
      "output/train\\Bull's Eye Maculopathy Chloroquine\\6.jpg\n",
      "output/train\\Bull's Eye Maculopathy Chloroquine\\7.jpg\n",
      "output/train\\Bull's Eye Maculopathy Chloroquine\\8.jpg\n",
      "output/train\\Bull's Eye Maculopathy Chloroquine\\9.jpg\n",
      "Central Serous Chorioretinopathy\n",
      "output/train\\Central Serous Chorioretinopathy\\2.jpg\n",
      "output/train\\Central Serous Chorioretinopathy\\3.jpg\n",
      "output/train\\Central Serous Chorioretinopathy\\4.jpg\n",
      "output/train\\Central Serous Chorioretinopathy\\5.jpg\n",
      "output/train\\Central Serous Chorioretinopathy\\6.jpg\n",
      "output/train\\Central Serous Chorioretinopathy\\7.jpg\n",
      "output/train\\Central Serous Chorioretinopathy\\8.jpg\n",
      "output/train\\Central Serous Chorioretinopathy\\9.jpg\n",
      "Choroidal Nevus\n",
      "output/train\\Choroidal Nevus\\2.jpg\n",
      "output/train\\Choroidal Nevus\\3.jpg\n",
      "output/train\\Choroidal Nevus\\4.jpg\n",
      "output/train\\Choroidal Nevus\\5.jpg\n",
      "output/train\\Choroidal Nevus\\6.jpg\n",
      "output/train\\Choroidal Nevus\\7.jpg\n",
      "output/train\\Choroidal Nevus\\8.jpg\n",
      "output/train\\Choroidal Nevus\\9.jpg\n",
      "CMV Chorioretinitis\n",
      "output/train\\CMV Chorioretinitis\\2.jpg\n",
      "output/train\\CMV Chorioretinitis\\3.jpg\n",
      "output/train\\CMV Chorioretinitis\\4.jpg\n",
      "output/train\\CMV Chorioretinitis\\5.jpg\n",
      "output/train\\CMV Chorioretinitis\\6.jpg\n",
      "output/train\\CMV Chorioretinitis\\7.jpg\n",
      "output/train\\CMV Chorioretinitis\\8.jpg\n",
      "output/train\\CMV Chorioretinitis\\9.jpg\n",
      "Cone - Rod Dystrophy\n",
      "output/train\\Cone - Rod Dystrophy\\2.jpg\n",
      "output/train\\Cone - Rod Dystrophy\\3.jpg\n",
      "output/train\\Cone - Rod Dystrophy\\4.jpg\n",
      "output/train\\Cone - Rod Dystrophy\\5.jpg\n",
      "output/train\\Cone - Rod Dystrophy\\6.jpg\n",
      "output/train\\Cone - Rod Dystrophy\\7.jpg\n",
      "output/train\\Cone - Rod Dystrophy\\8.jpg\n",
      "output/train\\Cone - Rod Dystrophy\\9.jpg\n",
      "Congenital Syphillis\n",
      "output/train\\Congenital Syphillis\\2.jpg\n",
      "output/train\\Congenital Syphillis\\3.jpg\n",
      "output/train\\Congenital Syphillis\\4.jpg\n",
      "output/train\\Congenital Syphillis\\5.jpg\n",
      "output/train\\Congenital Syphillis\\6.jpg\n",
      "output/train\\Congenital Syphillis\\7.jpg\n",
      "output/train\\Congenital Syphillis\\8.jpg\n",
      "output/train\\Congenital Syphillis\\9.jpg\n",
      "Diabetic Maculopathy Multiple Myeloma with Retinal Detachment\n",
      "output/train\\Diabetic Maculopathy Multiple Myeloma with Retinal Detachment\\2.jpg\n",
      "output/train\\Diabetic Maculopathy Multiple Myeloma with Retinal Detachment\\3.jpg\n",
      "output/train\\Diabetic Maculopathy Multiple Myeloma with Retinal Detachment\\4.jpg\n",
      "output/train\\Diabetic Maculopathy Multiple Myeloma with Retinal Detachment\\5.jpg\n",
      "output/train\\Diabetic Maculopathy Multiple Myeloma with Retinal Detachment\\6.jpg\n",
      "output/train\\Diabetic Maculopathy Multiple Myeloma with Retinal Detachment\\7.jpg\n",
      "output/train\\Diabetic Maculopathy Multiple Myeloma with Retinal Detachment\\8.jpg\n",
      "output/train\\Diabetic Maculopathy Multiple Myeloma with Retinal Detachment\\9.jpg\n",
      "Giant Retinal Tear\n",
      "output/train\\Giant Retinal Tear\\2.jpg\n",
      "output/train\\Giant Retinal Tear\\3.jpg\n",
      "output/train\\Giant Retinal Tear\\4.jpg\n",
      "output/train\\Giant Retinal Tear\\5.jpg\n",
      "output/train\\Giant Retinal Tear\\6.jpg\n",
      "output/train\\Giant Retinal Tear\\7.jpg\n",
      "output/train\\Giant Retinal Tear\\8.jpg\n",
      "output/train\\Giant Retinal Tear\\9.jpg\n",
      "Juxtafoveal Telangiectasis DM Diabetes\n",
      "output/train\\Juxtafoveal Telangiectasis DM Diabetes\\2.jpg\n",
      "output/train\\Juxtafoveal Telangiectasis DM Diabetes\\3.jpg\n",
      "output/train\\Juxtafoveal Telangiectasis DM Diabetes\\4.jpg\n",
      "output/train\\Juxtafoveal Telangiectasis DM Diabetes\\5.jpg\n",
      "output/train\\Juxtafoveal Telangiectasis DM Diabetes\\6.jpg\n",
      "output/train\\Juxtafoveal Telangiectasis DM Diabetes\\7.jpg\n",
      "output/train\\Juxtafoveal Telangiectasis DM Diabetes\\8.jpg\n",
      "output/train\\Juxtafoveal Telangiectasis DM Diabetes\\9.jpg\n",
      "Leber's Stellate Maculopathy\n",
      "output/train\\Leber's Stellate Maculopathy\\2.jpg\n",
      "output/train\\Leber's Stellate Maculopathy\\3.jpg\n",
      "output/train\\Leber's Stellate Maculopathy\\4.jpg\n",
      "output/train\\Leber's Stellate Maculopathy\\5.jpg\n",
      "output/train\\Leber's Stellate Maculopathy\\6.jpg\n",
      "output/train\\Leber's Stellate Maculopathy\\7.jpg\n",
      "output/train\\Leber's Stellate Maculopathy\\8.jpg\n",
      "output/train\\Leber's Stellate Maculopathy\\9.jpg\n",
      "Macular Dystrophy\n",
      "output/train\\Macular Dystrophy\\2.jpg\n",
      "output/train\\Macular Dystrophy\\3.jpg\n",
      "output/train\\Macular Dystrophy\\4.jpg\n",
      "output/train\\Macular Dystrophy\\5.jpg\n",
      "output/train\\Macular Dystrophy\\6.jpg\n",
      "output/train\\Macular Dystrophy\\7.jpg\n",
      "output/train\\Macular Dystrophy\\8.jpg\n",
      "output/train\\Macular Dystrophy\\9.jpg\n",
      "Multifocal Exudative Detachments Due to VKH\n",
      "output/train\\Multifocal Exudative Detachments Due to VKH\\2.jpg\n",
      "output/train\\Multifocal Exudative Detachments Due to VKH\\3.jpg\n",
      "output/train\\Multifocal Exudative Detachments Due to VKH\\4.jpg\n",
      "output/train\\Multifocal Exudative Detachments Due to VKH\\5.jpg\n",
      "output/train\\Multifocal Exudative Detachments Due to VKH\\6.jpg\n",
      "output/train\\Multifocal Exudative Detachments Due to VKH\\7.jpg\n",
      "output/train\\Multifocal Exudative Detachments Due to VKH\\8.jpg\n",
      "output/train\\Multifocal Exudative Detachments Due to VKH\\9.jpg\n",
      "Myelinated Nerve Fibers\n",
      "output/train\\Myelinated Nerve Fibers\\2.jpg\n",
      "output/train\\Myelinated Nerve Fibers\\3.jpg\n",
      "output/train\\Myelinated Nerve Fibers\\4.jpg\n",
      "output/train\\Myelinated Nerve Fibers\\5.jpg\n",
      "output/train\\Myelinated Nerve Fibers\\6.jpg\n",
      "output/train\\Myelinated Nerve Fibers\\7.jpg\n",
      "output/train\\Myelinated Nerve Fibers\\8.jpg\n",
      "output/train\\Myelinated Nerve Fibers\\9.jpg\n",
      "North Carolina Dystrophy\n",
      "output/train\\North Carolina Dystrophy\\2.jpg\n",
      "output/train\\North Carolina Dystrophy\\3.jpg\n",
      "output/train\\North Carolina Dystrophy\\4.jpg\n",
      "output/train\\North Carolina Dystrophy\\5.jpg\n",
      "output/train\\North Carolina Dystrophy\\6.jpg\n",
      "output/train\\North Carolina Dystrophy\\7.jpg\n",
      "output/train\\North Carolina Dystrophy\\8.jpg\n",
      "output/train\\North Carolina Dystrophy\\9.jpg\n",
      "Optic Disc Drusen\n",
      "output/train\\Optic Disc Drusen\\3.jpg\n",
      "output/train\\Optic Disc Drusen\\4.jpg\n",
      "output/train\\Optic Disc Drusen\\5.jpg\n",
      "output/train\\Optic Disc Drusen\\6.jpg\n",
      "output/train\\Optic Disc Drusen\\7.jpg\n",
      "output/train\\Optic Disc Drusen\\8.jpg\n",
      "Pattern Dystrophy Simulating Fundus Flavimaculatus\n",
      "output/train\\Pattern Dystrophy Simulating Fundus Flavimaculatus\\2.jpg\n",
      "output/train\\Pattern Dystrophy Simulating Fundus Flavimaculatus\\7.jpg\n",
      "output/train\\Pattern Dystrophy Simulating Fundus Flavimaculatus\\8.jpg\n",
      "Reticular Pattern Dystrophy\n",
      "output/train\\Reticular Pattern Dystrophy\\2.jpg\n",
      "output/train\\Reticular Pattern Dystrophy\\3.jpg\n",
      "output/train\\Reticular Pattern Dystrophy\\4.jpg\n",
      "output/train\\Reticular Pattern Dystrophy\\5.jpg\n",
      "output/train\\Reticular Pattern Dystrophy\\6.jpg\n",
      "output/train\\Reticular Pattern Dystrophy\\7.jpg\n"
     ]
    },
    {
     "name": "stdout",
     "output_type": "stream",
     "text": [
      "output/train\\Reticular Pattern Dystrophy\\8.jpg\n",
      "output/train\\Reticular Pattern Dystrophy\\9.jpg\n",
      "Retinal Folds Following Retinal Reattachment Surgery\n",
      "output/train\\Retinal Folds Following Retinal Reattachment Surgery\\2.jpg\n",
      "output/train\\Retinal Folds Following Retinal Reattachment Surgery\\3.jpg\n",
      "output/train\\Retinal Folds Following Retinal Reattachment Surgery\\4.jpg\n",
      "output/train\\Retinal Folds Following Retinal Reattachment Surgery\\5.jpg\n",
      "output/train\\Retinal Folds Following Retinal Reattachment Surgery\\6.jpg\n",
      "output/train\\Retinal Folds Following Retinal Reattachment Surgery\\7.jpg\n",
      "output/train\\Retinal Folds Following Retinal Reattachment Surgery\\8.jpg\n",
      "output/train\\Retinal Folds Following Retinal Reattachment Surgery\\9.jpg\n",
      "Retrohyaloid Hemorrhage\n",
      "output/train\\Retrohyaloid Hemorrhage\\2.jpg\n",
      "output/train\\Retrohyaloid Hemorrhage\\3.jpg\n",
      "output/train\\Retrohyaloid Hemorrhage\\4.jpg\n",
      "output/train\\Retrohyaloid Hemorrhage\\5.jpg\n",
      "output/train\\Retrohyaloid Hemorrhage\\6.jpg\n",
      "output/train\\Retrohyaloid Hemorrhage\\7.jpg\n",
      "output/train\\Retrohyaloid Hemorrhage\\8.jpg\n",
      "output/train\\Retrohyaloid Hemorrhage\\9.jpg\n",
      "Roth Spot\n",
      "output/train\\Roth Spot\\2.jpg\n",
      "output/train\\Roth Spot\\3.jpg\n",
      "output/train\\Roth Spot\\4.jpg\n",
      "output/train\\Roth Spot\\5.jpg\n",
      "output/train\\Roth Spot\\6.jpg\n",
      "output/train\\Roth Spot\\7.jpg\n",
      "output/train\\Roth Spot\\8.jpg\n",
      "output/train\\Roth Spot\\9.jpg\n",
      "Self-Applied Retinal Detachment\n",
      "output/train\\Self-Applied Retinal Detachment\\2.jpg\n",
      "output/train\\Self-Applied Retinal Detachment\\3.jpg\n",
      "output/train\\Self-Applied Retinal Detachment\\4.jpg\n",
      "output/train\\Self-Applied Retinal Detachment\\5.jpg\n",
      "output/train\\Self-Applied Retinal Detachment\\6.jpg\n",
      "output/train\\Self-Applied Retinal Detachment\\7.jpg\n",
      "output/train\\Self-Applied Retinal Detachment\\8.jpg\n",
      "output/train\\Self-Applied Retinal Detachment\\9.jpg\n",
      "Solar Retinopathy Familial\n",
      "output/train\\Solar Retinopathy Familial\\2.jpg\n",
      "output/train\\Solar Retinopathy Familial\\3.jpg\n",
      "output/train\\Solar Retinopathy Familial\\4.jpg\n",
      "output/train\\Solar Retinopathy Familial\\5.jpg\n",
      "output/train\\Solar Retinopathy Familial\\6.jpg\n",
      "output/train\\Solar Retinopathy Familial\\7.jpg\n",
      "output/train\\Solar Retinopathy Familial\\8.jpg\n",
      "output/train\\Solar Retinopathy Familial\\9.jpg\n",
      "Susac's Syndrome\n",
      "output/train\\Susac's Syndrome\\2.jpg\n",
      "output/train\\Susac's Syndrome\\3.jpg\n",
      "output/train\\Susac's Syndrome\\4.jpg\n",
      "output/train\\Susac's Syndrome\\5.jpg\n",
      "output/train\\Susac's Syndrome\\6.jpg\n",
      "output/train\\Susac's Syndrome\\7.jpg\n",
      "output/train\\Susac's Syndrome\\8.jpg\n",
      "output/train\\Susac's Syndrome\\9.jpg\n",
      "Terson's Syndrome\n",
      "output/train\\Terson's Syndrome\\2.jpg\n",
      "output/train\\Terson's Syndrome\\3.jpg\n",
      "output/train\\Terson's Syndrome\\4.jpg\n",
      "output/train\\Terson's Syndrome\\5.jpg\n",
      "output/train\\Terson's Syndrome\\6.jpg\n",
      "output/train\\Terson's Syndrome\\7.jpg\n",
      "output/train\\Terson's Syndrome\\8.jpg\n",
      "output/train\\Terson's Syndrome\\9.jpg\n",
      "Wyburn-Mason Syndrome\n",
      "output/train\\Wyburn-Mason Syndrome\\2.jpg\n",
      "output/train\\Wyburn-Mason Syndrome\\3.jpg\n",
      "output/train\\Wyburn-Mason Syndrome\\4.jpg\n",
      "output/train\\Wyburn-Mason Syndrome\\5.jpg\n",
      "output/train\\Wyburn-Mason Syndrome\\6.jpg\n",
      "output/train\\Wyburn-Mason Syndrome\\7.jpg\n",
      "output/train\\Wyburn-Mason Syndrome\\8.jpg\n",
      "output/train\\Wyburn-Mason Syndrome\\9.jpg\n"
     ]
    }
   ],
   "source": [
    "for directory_path in glob.glob(\"output/train/*\"):\n",
    "    label = directory_path.split(\"\\\\\")[-1]\n",
    "    print(label)\n",
    "    for img_path in glob.glob(os.path.join(directory_path, \"*.jpg\")):\n",
    "        print(img_path)\n",
    "        img = cv2.imread(img_path, cv2.IMREAD_COLOR)       \n",
    "        img = cv2.resize(img, (SIZE, SIZE))\n",
    "        img = cv2.cvtColor(img, cv2.COLOR_RGB2BGR)\n",
    "        train_images.append(img)\n",
    "        train_labels.append(label)"
   ]
  },
  {
   "cell_type": "code",
   "execution_count": 39,
   "metadata": {},
   "outputs": [],
   "source": [
    "#Convert lists to arrays        \n",
    "train_images = np.array(train_images)\n",
    "train_labels = np.array(train_labels)"
   ]
  },
  {
   "cell_type": "code",
   "execution_count": 52,
   "metadata": {},
   "outputs": [],
   "source": [
    "# Capture test/validation data and labels into respective lists\n",
    "\n",
    "test_images = []\n",
    "test_labels = [] \n",
    "for directory_path in glob.glob(\"output/test/*\"):\n",
    "    fruit_label = directory_path.split(\"\\\\\")[-1]\n",
    "    for img_path in glob.glob(os.path.join(directory_path, \"*.jpg\")):\n",
    "        img = cv2.imread(img_path, cv2.IMREAD_COLOR)\n",
    "        img = cv2.resize(img, (SIZE, SIZE))\n",
    "        img = cv2.cvtColor(img, cv2.COLOR_RGB2BGR)\n",
    "        test_images.append(img)\n",
    "        test_labels.append(fruit_label)"
   ]
  },
  {
   "cell_type": "code",
   "execution_count": 53,
   "metadata": {},
   "outputs": [],
   "source": [
    "#Convert lists to arrays                \n",
    "test_images = np.array(test_images)\n",
    "test_labels = np.array(test_labels)"
   ]
  },
  {
   "cell_type": "code",
   "execution_count": 54,
   "metadata": {},
   "outputs": [],
   "source": [
    "#Encode labels from text to integers.\n",
    "from sklearn import preprocessing\n",
    "le = preprocessing.LabelEncoder()\n",
    "le.fit(test_labels)\n",
    "test_labels_encoded = le.transform(test_labels)\n",
    "le.fit(train_labels)\n",
    "train_labels_encoded = le.transform(train_labels)"
   ]
  },
  {
   "cell_type": "code",
   "execution_count": 55,
   "metadata": {},
   "outputs": [],
   "source": [
    "#Split data into test and train datasets (already split but assigning to meaningful convention)\n",
    "x_train, y_train, x_test, y_test = train_images, train_labels_encoded, test_images, test_labels_encoded\n",
    "\n",
    "###################################################################\n",
    "# Normalize pixel values to between 0 and 1\n",
    "x_train, x_test = x_train / 255.0, x_test / 255.0\n"
   ]
  },
  {
   "cell_type": "code",
   "execution_count": 56,
   "metadata": {},
   "outputs": [],
   "source": [
    "#One hot encode y values for neural network. \n",
    "from tensorflow.keras.utils import to_categorical\n",
    "y_train_one_hot = to_categorical(y_train)\n",
    "y_test_one_hot = to_categorical(y_test)"
   ]
  },
  {
   "cell_type": "code",
   "execution_count": 64,
   "metadata": {},
   "outputs": [],
   "source": [
    "ML_Model = []\n",
    "accuracy = []\n",
    "precision = []\n",
    "recall = []\n",
    "f1score = []\n",
    "\n",
    "#function to call for storing the results\n",
    "def storeResults(model, a,b,c,d):\n",
    "    ML_Model.append(model)\n",
    "    accuracy.append(round(a, 3))\n",
    "    precision.append(round(b, 3))\n",
    "    recall.append(round(c, 3))\n",
    "    f1score.append(round(d, 3))\n"
   ]
  },
  {
   "cell_type": "markdown",
   "metadata": {},
   "source": [
    "# CNN"
   ]
  },
  {
   "cell_type": "code",
   "execution_count": 8,
   "metadata": {},
   "outputs": [
    {
     "name": "stdout",
     "output_type": "stream",
     "text": [
      "Model: \"sequential\"\n",
      "_________________________________________________________________\n",
      "Layer (type)                 Output Shape              Param #   \n",
      "=================================================================\n",
      "conv2d (Conv2D)              (None, 150, 150, 32)      896       \n",
      "_________________________________________________________________\n",
      "max_pooling2d (MaxPooling2D) (None, 75, 75, 32)        0         \n",
      "_________________________________________________________________\n",
      "conv2d_1 (Conv2D)            (None, 75, 75, 64)        18496     \n",
      "_________________________________________________________________\n",
      "max_pooling2d_1 (MaxPooling2 (None, 37, 37, 64)        0         \n",
      "_________________________________________________________________\n",
      "flatten (Flatten)            (None, 87616)             0         \n",
      "_________________________________________________________________\n",
      "dense (Dense)                (None, 128)               11214976  \n",
      "_________________________________________________________________\n",
      "dropout (Dropout)            (None, 128)               0         \n",
      "_________________________________________________________________\n",
      "dense_1 (Dense)              (None, 128)               16512     \n",
      "_________________________________________________________________\n",
      "dense_2 (Dense)              (None, 32)                4128      \n",
      "=================================================================\n",
      "Total params: 11,255,008\n",
      "Trainable params: 11,255,008\n",
      "Non-trainable params: 0\n",
      "_________________________________________________________________\n"
     ]
    }
   ],
   "source": [
    "# Build a custom sequential CNN model\n",
    "\n",
    "model = Sequential() # model object\n",
    "\n",
    "# Add Layers\n",
    "model.add(Conv2D(filters=32, kernel_size=3, strides=1, padding='same', activation='relu', input_shape=[150, 150, 3]))\n",
    "model.add(MaxPooling2D(2, ))\n",
    "model.add(Conv2D(filters=64, kernel_size=3, strides=1, padding='same', activation='relu'))\n",
    "model.add(MaxPooling2D(2))\n",
    "\n",
    "# Flatten the feature map\n",
    "model.add(Flatten())\n",
    "\n",
    "# Add the fully connected layers\n",
    "model.add(Dense(128, activation='relu'))\n",
    "model.add(Dropout(0.25))\n",
    "model.add(Dense(128, activation='relu'))\n",
    "model.add(Dense(32, activation='softmax'))\n",
    "\n",
    "# print the model summary\n",
    "model.summary()\n"
   ]
  },
  {
   "cell_type": "code",
   "execution_count": 12,
   "metadata": {},
   "outputs": [
    {
     "name": "stdout",
     "output_type": "stream",
     "text": [
      "Epoch 1/20\n",
      "128/128 [==============================] - 5s 33ms/step - loss: 0.2314 - accuracy: 0.9483 - f1_m: 0.9307 - precision_m: 0.9496 - recall_m: 0.9212 - val_loss: 0.0885 - val_accuracy: 0.9727 - val_f1_m: 0.9687 - val_precision_m: 0.9766 - val_recall_m: 0.9648\n",
      "Epoch 2/20\n",
      "128/128 [==============================] - 4s 31ms/step - loss: 0.2695 - accuracy: 0.9276 - f1_m: 0.9304 - precision_m: 0.9427 - recall_m: 0.9243 - val_loss: 0.4556 - val_accuracy: 0.8906 - val_f1_m: 0.8945 - val_precision_m: 0.9102 - val_recall_m: 0.8867\n",
      "Epoch 3/20\n",
      "128/128 [==============================] - 4s 32ms/step - loss: 0.4716 - accuracy: 0.8621 - f1_m: 0.8599 - precision_m: 0.9015 - recall_m: 0.8391 - val_loss: 0.1083 - val_accuracy: 0.9688 - val_f1_m: 0.9583 - val_precision_m: 0.9766 - val_recall_m: 0.9492\n",
      "Epoch 4/20\n",
      "128/128 [==============================] - 4s 32ms/step - loss: 0.1759 - accuracy: 0.9244 - f1_m: 0.9254 - precision_m: 0.9596 - recall_m: 0.9083 - val_loss: 0.0637 - val_accuracy: 0.9805 - val_f1_m: 0.9753 - val_precision_m: 0.9805 - val_recall_m: 0.9727\n",
      "Epoch 5/20\n",
      "128/128 [==============================] - 4s 32ms/step - loss: 0.2137 - accuracy: 0.9248 - f1_m: 0.9217 - precision_m: 0.9276 - recall_m: 0.9187 - val_loss: 0.0370 - val_accuracy: 0.9922 - val_f1_m: 0.9896 - val_precision_m: 0.9922 - val_recall_m: 0.9883\n",
      "Epoch 6/20\n",
      "128/128 [==============================] - 4s 32ms/step - loss: 0.1796 - accuracy: 0.9223 - f1_m: 0.9231 - precision_m: 0.9492 - recall_m: 0.9100 - val_loss: 0.1054 - val_accuracy: 0.9766 - val_f1_m: 0.9753 - val_precision_m: 0.9805 - val_recall_m: 0.9727\n",
      "Epoch 7/20\n",
      "128/128 [==============================] - 4s 32ms/step - loss: 0.2091 - accuracy: 0.9432 - f1_m: 0.9461 - precision_m: 0.9623 - recall_m: 0.9379 - val_loss: 0.0335 - val_accuracy: 0.9883 - val_f1_m: 0.9883 - val_precision_m: 0.9883 - val_recall_m: 0.9883\n",
      "Epoch 8/20\n",
      "128/128 [==============================] - 4s 32ms/step - loss: 0.0886 - accuracy: 0.9715 - f1_m: 0.9621 - precision_m: 0.9715 - recall_m: 0.9574 - val_loss: 0.2404 - val_accuracy: 0.9453 - val_f1_m: 0.9362 - val_precision_m: 0.9414 - val_recall_m: 0.9336\n",
      "Epoch 9/20\n",
      "128/128 [==============================] - 4s 32ms/step - loss: 0.3946 - accuracy: 0.9034 - f1_m: 0.8962 - precision_m: 0.9087 - recall_m: 0.8900 - val_loss: 0.0258 - val_accuracy: 0.9922 - val_f1_m: 0.9922 - val_precision_m: 0.9922 - val_recall_m: 0.9922\n",
      "Epoch 10/20\n",
      "128/128 [==============================] - 4s 32ms/step - loss: 0.0772 - accuracy: 0.9774 - f1_m: 0.9756 - precision_m: 0.9830 - recall_m: 0.9719 - val_loss: 0.2044 - val_accuracy: 0.9727 - val_f1_m: 0.9727 - val_precision_m: 0.9727 - val_recall_m: 0.9727\n",
      "Epoch 11/20\n",
      "128/128 [==============================] - 4s 32ms/step - loss: 0.2267 - accuracy: 0.9647 - f1_m: 0.9600 - precision_m: 0.9647 - recall_m: 0.9576 - val_loss: 0.0415 - val_accuracy: 0.9922 - val_f1_m: 0.9922 - val_precision_m: 0.9922 - val_recall_m: 0.9922\n",
      "Epoch 12/20\n",
      "128/128 [==============================] - 4s 32ms/step - loss: 0.1278 - accuracy: 0.9571 - f1_m: 0.9571 - precision_m: 0.9646 - recall_m: 0.9534 - val_loss: 0.0158 - val_accuracy: 0.9961 - val_f1_m: 0.9961 - val_precision_m: 0.9961 - val_recall_m: 0.9961\n",
      "Epoch 13/20\n",
      "128/128 [==============================] - 4s 32ms/step - loss: 0.0420 - accuracy: 0.9914 - f1_m: 0.9900 - precision_m: 0.9921 - recall_m: 0.9889 - val_loss: 0.1437 - val_accuracy: 0.9688 - val_f1_m: 0.9688 - val_precision_m: 0.9688 - val_recall_m: 0.9688\n",
      "Epoch 14/20\n",
      "128/128 [==============================] - 4s 32ms/step - loss: 0.2422 - accuracy: 0.9213 - f1_m: 0.9131 - precision_m: 0.9213 - recall_m: 0.9090 - val_loss: 0.1050 - val_accuracy: 0.9805 - val_f1_m: 0.9805 - val_precision_m: 0.9805 - val_recall_m: 0.9805\n",
      "Epoch 15/20\n",
      "128/128 [==============================] - 4s 32ms/step - loss: 0.3620 - accuracy: 0.9293 - f1_m: 0.9267 - precision_m: 0.9438 - recall_m: 0.9182 - val_loss: 0.0619 - val_accuracy: 0.9844 - val_f1_m: 0.9870 - val_precision_m: 0.9922 - val_recall_m: 0.9844\n",
      "Epoch 16/20\n",
      "128/128 [==============================] - 4s 32ms/step - loss: 0.1996 - accuracy: 0.9391 - f1_m: 0.9163 - precision_m: 0.9466 - recall_m: 0.9012 - val_loss: 0.0186 - val_accuracy: 0.9922 - val_f1_m: 0.9922 - val_precision_m: 0.9922 - val_recall_m: 0.9922\n",
      "Epoch 17/20\n",
      "128/128 [==============================] - 4s 31ms/step - loss: 0.3220 - accuracy: 0.9196 - f1_m: 0.9167 - precision_m: 0.9318 - recall_m: 0.9091 - val_loss: 0.1028 - val_accuracy: 0.9688 - val_f1_m: 0.9635 - val_precision_m: 0.9688 - val_recall_m: 0.9609\n"
     ]
    }
   ],
   "source": [
    "# Compile and fit the model\n",
    "early_stopping = keras.callbacks.EarlyStopping(patience=5) # Set up callbacks\n",
    "model.compile(optimizer='Adam', loss='categorical_crossentropy', metrics=['accuracy',f1_m,precision_m, recall_m])\n",
    "hist = model.fit(train_image_generator, \n",
    "                 epochs=20, \n",
    "                 verbose=1, \n",
    "                 validation_data=val_image_generator,  \n",
    "                 callbacks=early_stopping)"
   ]
  },
  {
   "cell_type": "code",
   "execution_count": 16,
   "metadata": {},
   "outputs": [],
   "source": [
    "model.save('cnn.h5')"
   ]
  },
  {
   "cell_type": "code",
   "execution_count": 14,
   "metadata": {},
   "outputs": [],
   "source": [
    "cnn_acc = hist.history[\"val_accuracy\"][16]\n",
    "cnn_prec = hist.history[\"val_precision_m\"][16]\n",
    "cnn_rec = hist.history[\"val_recall_m\"][16]\n",
    "cnn_f1 = hist.history[\"val_f1_m\"][16]"
   ]
  },
  {
   "cell_type": "code",
   "execution_count": 65,
   "metadata": {},
   "outputs": [],
   "source": [
    "storeResults('CNN',cnn_acc,cnn_prec,cnn_rec,cnn_f1)"
   ]
  },
  {
   "cell_type": "code",
   "execution_count": 15,
   "metadata": {},
   "outputs": [
    {
     "data": {
      "image/png": "[encoded data removed]",
      "text/plain": [
       "<Figure size 432x288 with 2 Axes>"
      ]
     },
     "metadata": {
      "needs_background": "light"
     },
     "output_type": "display_data"
    }
   ],
   "source": [
    "fig, (ax1, ax2) = plt.subplots(2, 1)\n",
    "ax1.plot(hist.history[\"loss\"], color=\"b\", label=\"Training loss\")\n",
    "ax1.plot(hist.history[\"val_loss\"], color=\"r\", label=\"validation loss\")\n",
    "ax1.legend()\n",
    "\n",
    "ax2.plot(hist.history[\"accuracy\"], color=\"b\", label=\"Training accuracy\")\n",
    "ax2.plot(hist.history[\"val_accuracy\"], color=\"r\", label=\"Validation accuracy\")\n",
    "ax2.legend()\n",
    "\n",
    "legend = plt.legend(loc=\"best\")\n",
    "plt.tight_layout()\n",
    "plt.show()"
   ]
  },
  {
   "cell_type": "markdown",
   "metadata": {},
   "source": [
    "Conv Neural Network(UNet Stru) Feature Extraction with SVM"
   ]
  },
  {
   "cell_type": "markdown",
   "metadata": {},
   "source": [
    "# CNN with SVM"
   ]
  },
  {
   "cell_type": "code",
   "execution_count": 57,
   "metadata": {},
   "outputs": [
    {
     "name": "stdout",
     "output_type": "stream",
     "text": [
      "Model: \"sequential_21\"\n",
      "_________________________________________________________________\n",
      "Layer (type)                 Output Shape              Param #   \n",
      "=================================================================\n",
      "conv2d_148 (Conv2D)          (None, 32, 32, 32)        11648     \n",
      "_________________________________________________________________\n",
      "batch_normalization_39 (Batc (None, 32, 32, 32)        128       \n",
      "_________________________________________________________________\n",
      "activation_39 (Activation)   (None, 32, 32, 32)        0         \n",
      "_________________________________________________________________\n",
      "max_pooling2d_132 (MaxPoolin (None, 16, 16, 32)        0         \n",
      "_________________________________________________________________\n",
      "conv2d_149 (Conv2D)          (None, 16, 16, 32)        25632     \n",
      "_________________________________________________________________\n",
      "batch_normalization_40 (Batc (None, 16, 16, 32)        128       \n",
      "_________________________________________________________________\n",
      "activation_40 (Activation)   (None, 16, 16, 32)        0         \n",
      "_________________________________________________________________\n",
      "max_pooling2d_133 (MaxPoolin (None, 8, 8, 32)          0         \n",
      "_________________________________________________________________\n",
      "conv2d_150 (Conv2D)          (None, 8, 8, 64)          51264     \n",
      "_________________________________________________________________\n",
      "batch_normalization_41 (Batc (None, 8, 8, 64)          256       \n",
      "_________________________________________________________________\n",
      "activation_41 (Activation)   (None, 8, 8, 64)          0         \n",
      "_________________________________________________________________\n",
      "max_pooling2d_134 (MaxPoolin (None, 4, 4, 64)          0         \n",
      "_________________________________________________________________\n",
      "conv2d_151 (Conv2D)          (None, 4, 4, 64)          36928     \n",
      "_________________________________________________________________\n",
      "batch_normalization_42 (Batc (None, 4, 4, 64)          256       \n",
      "_________________________________________________________________\n",
      "activation_42 (Activation)   (None, 4, 4, 64)          0         \n",
      "_________________________________________________________________\n",
      "conv2d_152 (Conv2D)          (None, 4, 4, 128)         73856     \n",
      "_________________________________________________________________\n",
      "batch_normalization_43 (Batc (None, 4, 4, 128)         512       \n",
      "_________________________________________________________________\n",
      "activation_43 (Activation)   (None, 4, 4, 128)         0         \n",
      "_________________________________________________________________\n",
      "conv2d_153 (Conv2D)          (None, 4, 4, 512)         590336    \n",
      "_________________________________________________________________\n",
      "batch_normalization_44 (Batc (None, 4, 4, 512)         2048      \n",
      "_________________________________________________________________\n",
      "activation_44 (Activation)   (None, 4, 4, 512)         0         \n",
      "_________________________________________________________________\n",
      "conv2d_154 (Conv2D)          (None, 4, 4, 64)          294976    \n",
      "_________________________________________________________________\n",
      "batch_normalization_45 (Batc (None, 4, 4, 64)          256       \n",
      "_________________________________________________________________\n",
      "activation_45 (Activation)   (None, 4, 4, 64)          0         \n",
      "_________________________________________________________________\n",
      "conv2d_155 (Conv2D)          (None, 4, 4, 128)         73856     \n",
      "_________________________________________________________________\n",
      "batch_normalization_46 (Batc (None, 4, 4, 128)         512       \n",
      "_________________________________________________________________\n",
      "activation_46 (Activation)   (None, 4, 4, 128)         0         \n",
      "_________________________________________________________________\n",
      "conv2d_156 (Conv2D)          (None, 4, 4, 32)          102432    \n",
      "_________________________________________________________________\n",
      "batch_normalization_47 (Batc (None, 4, 4, 32)          128       \n",
      "_________________________________________________________________\n",
      "activation_47 (Activation)   (None, 4, 4, 32)          0         \n",
      "_________________________________________________________________\n",
      "max_pooling2d_135 (MaxPoolin (None, 2, 2, 32)          0         \n",
      "_________________________________________________________________\n",
      "conv2d_157 (Conv2D)          (None, 2, 2, 64)          18496     \n",
      "_________________________________________________________________\n",
      "batch_normalization_48 (Batc (None, 2, 2, 64)          256       \n",
      "_________________________________________________________________\n",
      "activation_48 (Activation)   (None, 2, 2, 64)          0         \n",
      "_________________________________________________________________\n",
      "max_pooling2d_136 (MaxPoolin (None, 1, 1, 64)          0         \n",
      "_________________________________________________________________\n",
      "flatten_10 (Flatten)         (None, 64)                0         \n",
      "_________________________________________________________________\n",
      "dense_22 (Dense)             (None, 32)                2080      \n",
      "_________________________________________________________________\n",
      "batch_normalization_49 (Batc (None, 32)                128       \n",
      "_________________________________________________________________\n",
      "activation_49 (Activation)   (None, 32)                0         \n",
      "=================================================================\n",
      "Total params: 1,286,112\n",
      "Trainable params: 1,283,808\n",
      "Non-trainable params: 2,304\n",
      "_________________________________________________________________\n"
     ]
    }
   ],
   "source": [
    "\n",
    "model = Sequential()\n",
    "\n",
    "# Input Layer\n",
    "model.add(Conv2D(filters=32, input_shape=(128,128,3), kernel_size=(11,11), strides=(4,4), padding='same'))\n",
    "model.add(BatchNormalization())\n",
    "model.add(Activation('relu'))\n",
    "model.add(MaxPooling2D(pool_size=(2,2), strides=(2,2), padding='same'))\n",
    "\n",
    "# 32 -> 64\n",
    "model.add(Conv2D(filters=32, kernel_size=(5, 5), strides=(1,1), padding='same'))\n",
    "model.add(BatchNormalization())\n",
    "model.add(Activation('relu'))\n",
    "model.add(MaxPooling2D(pool_size=(2,2), strides=(2,2), padding='same'))\n",
    "model.add(Conv2D(filters=64, kernel_size=(5, 5), strides=(1,1), padding='same'))\n",
    "model.add(BatchNormalization())\n",
    "model.add(Activation('relu'))\n",
    "model.add(MaxPooling2D(pool_size=(2,2), strides=(2,2), padding='same'))\n",
    "\n",
    "# 64 -> 128\n",
    "model.add(Conv2D(filters=64, kernel_size=(3,3), strides=(1,1), padding='same'))\n",
    "model.add(BatchNormalization())\n",
    "model.add(Activation('relu'))\n",
    "model.add(Conv2D(filters=128, kernel_size=(3,3), strides=(1,1), padding='same'))\n",
    "model.add(BatchNormalization())\n",
    "model.add(Activation('relu'))\n",
    "\n",
    "# Middle Layer\n",
    "model.add(Conv2D(filters=512, kernel_size=(3,3), strides=(1,1), padding='same'))\n",
    "model.add(BatchNormalization())\n",
    "model.add(Activation('relu'))\n",
    "\n",
    "\n",
    "# 64 -> 128\n",
    "model.add(Conv2D(filters=64, kernel_size=(3,3), strides=(1,1), padding='same'))\n",
    "model.add(BatchNormalization())\n",
    "model.add(Activation('relu'))\n",
    "model.add(Conv2D(filters=128, kernel_size=(3,3), strides=(1,1), padding='same'))\n",
    "model.add(BatchNormalization())\n",
    "model.add(Activation('relu'))\n",
    "\n",
    "# 32 -> 64\n",
    "model.add(Conv2D(filters=32, kernel_size=(5, 5), strides=(1,1), padding='same'))\n",
    "model.add(BatchNormalization())\n",
    "model.add(Activation('relu'))\n",
    "model.add(MaxPooling2D(pool_size=(2,2), strides=(2,2), padding='same'))\n",
    "model.add(Conv2D(filters=64, kernel_size=(3,3), strides=(1,1), padding='same'))\n",
    "model.add(BatchNormalization())\n",
    "model.add(Activation('relu'))\n",
    "model.add(MaxPooling2D(pool_size=(2,2), strides=(2,2), padding='same'))\n",
    "\n",
    "#Passing it to a Fully Connected layer\n",
    "model.add(Flatten())\n",
    "\n",
    "#Output Layer\n",
    "model.add(Dense(32))\n",
    "model.add(BatchNormalization())\n",
    "model.add(Activation('softmax'))\n",
    "\n",
    "#Model Summary\n",
    "model.summary()"
   ]
  },
  {
   "cell_type": "code",
   "execution_count": 58,
   "metadata": {},
   "outputs": [],
   "source": [
    "#Now, let us use features from convolutional network for RF\n",
    "feature_extractor= model.predict(x_train)"
   ]
  },
  {
   "cell_type": "code",
   "execution_count": 59,
   "metadata": {},
   "outputs": [],
   "source": [
    "features = feature_extractor.reshape(feature_extractor.shape[0], -1)\n",
    "\n",
    "X_train_feature = features"
   ]
  },
  {
   "cell_type": "code",
   "execution_count": 60,
   "metadata": {},
   "outputs": [],
   "source": [
    "X_test_feature = model.predict(x_test)\n",
    "X_test_features = X_test_feature.reshape(X_test_feature.shape[0], -1)"
   ]
  },
  {
   "cell_type": "code",
   "execution_count": 61,
   "metadata": {},
   "outputs": [],
   "source": [
    "from sklearn.metrics import accuracy_score, precision_score, recall_score, f1_score"
   ]
  },
  {
   "cell_type": "code",
   "execution_count": 62,
   "metadata": {},
   "outputs": [],
   "source": [
    "from sklearn.svm import SVC\n",
    "svm_model = SVC()\n",
    "svm_model.fit(X_train_feature, y_train) #For sklearn no one hot encoding\n",
    "\n",
    "prediction_svm = svm_model.predict(X_test_features)\n",
    "#Inverse le transform to get original label back. \n",
    "prediction_svm = le.inverse_transform(prediction_svm)\n",
    "\n",
    "svm_acc = accuracy_score(test_labels, prediction_svm)\n",
    "svm_prec = precision_score(test_labels, prediction_svm,average='weighted')\n",
    "svm_rec = recall_score(test_labels, prediction_svm,average='weighted')\n",
    "svm_f1 = f1_score(test_labels, prediction_svm,average='weighted')"
   ]
  },
  {
   "cell_type": "code",
   "execution_count": 66,
   "metadata": {},
   "outputs": [],
   "source": [
    "storeResults('UNET(CNN)-SVM',svm_acc,svm_prec,svm_rec,svm_f1)"
   ]
  },
  {
   "cell_type": "markdown",
   "metadata": {},
   "source": [
    "# Comparison"
   ]
  },
  {
   "cell_type": "code",
   "execution_count": 68,
   "metadata": {},
   "outputs": [],
   "source": [
    "#creating dataframe\n",
    "import pandas as pd\n",
    "result = pd.DataFrame({ 'ML Model' : ML_Model,\n",
    "                        'Accuracy' : accuracy,\n",
    "                       'Precision': precision,\n",
    "                       'Recall'   : recall, \n",
    "                       'F1_score' : f1score,\n",
    "                        \n",
    "                        \n",
    "                      })"
   ]
  },
  {
   "cell_type": "code",
   "execution_count": 69,
   "metadata": {},
   "outputs": [
    {
     "data": {
      "text/html": [
       "<div>\n",
       "<style scoped>\n",
       "    .dataframe tbody tr th:only-of-type {\n",
       "        vertical-align: middle;\n",
       "    }\n",
       "\n",
       "    .dataframe tbody tr th {\n",
       "        vertical-align: top;\n",
       "    }\n",
       "\n",
       "    .dataframe thead th {\n",
       "        text-align: right;\n",
       "    }\n",
       "</style>\n",
       "<table border=\"1\" class=\"dataframe\">\n",
       "  <thead>\n",
       "    <tr style=\"text-align: right;\">\n",
       "      <th></th>\n",
       "      <th>ML Model</th>\n",
       "      <th>Accuracy</th>\n",
       "      <th>Precision</th>\n",
       "      <th>Recall</th>\n",
       "      <th>F1_score</th>\n",
       "    </tr>\n",
       "  </thead>\n",
       "  <tbody>\n",
       "    <tr>\n",
       "      <th>0</th>\n",
       "      <td>CNN</td>\n",
       "      <td>0.969</td>\n",
       "      <td>0.969</td>\n",
       "      <td>0.961</td>\n",
       "      <td>0.964</td>\n",
       "    </tr>\n",
       "    <tr>\n",
       "      <th>1</th>\n",
       "      <td>UNET(CNN)-SVM</td>\n",
       "      <td>0.321</td>\n",
       "      <td>0.290</td>\n",
       "      <td>0.321</td>\n",
       "      <td>0.248</td>\n",
       "    </tr>\n",
       "  </tbody>\n",
       "</table>\n",
       "</div>"
      ],
      "text/plain": [
       "        ML Model  Accuracy  Precision  Recall  F1_score\n",
       "0            CNN     0.969      0.969   0.961     0.964\n",
       "1  UNET(CNN)-SVM     0.321      0.290   0.321     0.248"
      ]
     },
     "execution_count": 69,
     "metadata": {},
     "output_type": "execute_result"
    }
   ],
   "source": [
    "result"
   ]
  },
  {
   "cell_type": "markdown",
   "metadata": {},
   "source": [
    "# Graph"
   ]
  },
  {
   "cell_type": "code",
   "execution_count": 70,
   "metadata": {},
   "outputs": [],
   "source": [
    "classifier = ML_Model\n",
    "y_pos = np.arange(len(classifier))"
   ]
  },
  {
   "cell_type": "markdown",
   "metadata": {},
   "source": [
    "# Accuracy"
   ]
  },
  {
   "cell_type": "code",
   "execution_count": 71,
   "metadata": {},
   "outputs": [
    {
     "data": {
      "image/png": "[encoded data removed]",
      "text/plain": [
       "<Figure size 432x288 with 1 Axes>"
      ]
     },
     "metadata": {
      "needs_background": "light"
     },
     "output_type": "display_data"
    }
   ],
   "source": [
    "import matplotlib.pyplot as plt2\n",
    "plt2.barh(y_pos, accuracy, align='center', alpha=0.5,color='blue')\n",
    "plt2.yticks(y_pos, classifier)\n",
    "plt2.xlabel('Accuracy Score')\n",
    "plt2.title('Classification Performance')\n",
    "plt2.show()"
   ]
  },
  {
   "cell_type": "markdown",
   "metadata": {},
   "source": [
    "# Precision"
   ]
  },
  {
   "cell_type": "code",
   "execution_count": 72,
   "metadata": {},
   "outputs": [
    {
     "data": {
      "image/png": "[encoded data removed]",
      "text/plain": [
       "<Figure size 432x288 with 1 Axes>"
      ]
     },
     "metadata": {
      "needs_background": "light"
     },
     "output_type": "display_data"
    }
   ],
   "source": [
    "import matplotlib.pyplot as plt2\n",
    "plt2.barh(y_pos, precision, align='center', alpha=0.5,color='red')\n",
    "plt2.yticks(y_pos, classifier)\n",
    "plt2.xlabel('Precision Score')\n",
    "plt2.title('Classification Performance')\n",
    "plt2.show()"
   ]
  },
  {
   "cell_type": "markdown",
   "metadata": {},
   "source": [
    "# Recall"
   ]
  },
  {
   "cell_type": "code",
   "execution_count": 73,
   "metadata": {},
   "outputs": [
    {
     "data": {
      "image/png": "[encoded data removed]",
      "text/plain": [
       "<Figure size 432x288 with 1 Axes>"
      ]
     },
     "metadata": {
      "needs_background": "light"
     },
     "output_type": "display_data"
    }
   ],
   "source": [
    "import matplotlib.pyplot as plt2\n",
    "plt2.barh(y_pos, recall, align='center', alpha=0.5,color='yellow')\n",
    "plt2.yticks(y_pos, classifier)\n",
    "plt2.xlabel('Recall Score')\n",
    "plt2.title('Classification Performance')\n",
    "plt2.show()"
   ]
  },
  {
   "cell_type": "markdown",
   "metadata": {},
   "source": [
    "# F1 SCore"
   ]
  },
  {
   "cell_type": "code",
   "execution_count": 74,
   "metadata": {},
   "outputs": [
    {
     "data": {
      "image/png": "[encoded data removed]",
      "text/plain": [
       "<Figure size 432x288 with 1 Axes>"
      ]
     },
     "metadata": {
      "needs_background": "light"
     },
     "output_type": "display_data"
    }
   ],
   "source": [
    "import matplotlib.pyplot as plt2\n",
    "plt2.barh(y_pos, f1score, align='center', alpha=0.5,color='pink')\n",
    "plt2.yticks(y_pos, classifier)\n",
    "plt2.xlabel('F1 Score')\n",
    "plt2.title('Classification Performance')\n",
    "plt2.show()"
   ]
  },
  {
   "cell_type": "code",
   "execution_count": null,
   "metadata": {},
   "outputs": [],
   "source": []
  }
 ],
 "metadata": {
  "kernelspec": {
   "display_name": "Python 3",
   "language": "python",
   "name": "python3"
  },
  "language_info": {
   "codemirror_mode": {
    "name": "ipython",
    "version": 3
   },
   "file_extension": ".py",
   "mimetype": "text/x-python",
   "name": "python",
   "nbconvert_exporter": "python",
   "pygments_lexer": "ipython3",
   "version": "3.7.4"
  }
 },
 "nbformat": 4,
 "nbformat_minor": 2
}
